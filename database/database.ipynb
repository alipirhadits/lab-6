{
 "cells": [
  {
   "cell_type": "code",
   "execution_count": 2,
   "metadata": {},
   "outputs": [],
   "source": [
    "import sqlite3\n",
    "\n",
    "# Create a connection to the SQLite database\n",
    "conn = sqlite3.connect('geolocated_reports.db')\n",
    "cursor = conn.cursor()\n",
    "\n",
    "# Create user table\n",
    "cursor.execute('''CREATE TABLE IF NOT EXISTS users (\n",
    "                    id INTEGER PRIMARY KEY,\n",
    "                    name TEXT NOT NULL,\n",
    "                    user_identifier TEXT UNIQUE NOT NULL,\n",
    "                    password_hash TEXT NOT NULL,\n",
    "                    api_key TEXT UNIQUE NOT NULL\n",
    "                )''')\n",
    "\n",
    "# Recreate the reports table with the updated schema\n",
    "cursor.execute('''CREATE TABLE IF NOT EXISTS reports (\n",
    "                    id INTEGER PRIMARY KEY,\n",
    "                    user_id INTEGER NOT NULL,\n",
    "                    datetime_entry TIMESTAMP DEFAULT CURRENT_TIMESTAMP,\n",
    "                    latitude REAL NOT NULL,\n",
    "                    longitude REAL NOT NULL,\n",
    "                    state TEXT,  -- Add this line to include the 'state' column\n",
    "                    county TEXT,  -- Add this line to include the 'county' column\n",
    "                    description TEXT NOT NULL,\n",
    "                    filename TEXT NOT NULL,\n",
    "                    ip_address TEXT NOT NULL,\n",
    "                    weather TEXT NOT NULL,\n",
    "                    temperature REAL NOT NULL,\n",
    "                    humidity REAL NOT NULL,\n",
    "                    wind_speed REAL NOT NULL,\n",
    "                    FOREIGN KEY (user_id) REFERENCES users(id)\n",
    "                )''')\n",
    "\n",
    "\n",
    "\n",
    "# Commit changes and close connection\n",
    "conn.commit()\n",
    "conn.close()\n",
    "\n",
    "\n"
   ]
  },
  {
   "cell_type": "code",
   "execution_count": null,
   "metadata": {},
   "outputs": [],
   "source": []
  }
 ],
 "metadata": {
  "kernelspec": {
   "display_name": "base",
   "language": "python",
   "name": "python3"
  },
  "language_info": {
   "codemirror_mode": {
    "name": "ipython",
    "version": 3
   },
   "file_extension": ".py",
   "mimetype": "text/x-python",
   "name": "python",
   "nbconvert_exporter": "python",
   "pygments_lexer": "ipython3",
   "version": "3.11.8"
  }
 },
 "nbformat": 4,
 "nbformat_minor": 2
}
